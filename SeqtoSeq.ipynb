{
  "nbformat": 4,
  "nbformat_minor": 0,
  "metadata": {
    "colab": {
      "name": "SeqtoSeq.ipynb",
      "provenance": [],
      "collapsed_sections": []
    },
    "kernelspec": {
      "name": "python3",
      "display_name": "Python 3"
    },
    "accelerator": "GPU"
  },
  "cells": [
    {
      "cell_type": "code",
      "metadata": {
        "id": "SYlNw4r_dCKd"
      },
      "source": [
        "import tensorflow as tf\n",
        "import tensorflow.keras.layers as layers\n",
        "\n",
        "import matplotlib.pyplot as plt\n",
        "import matplotlib.ticker as ticker\n",
        "from sklearn.model_selection import train_test_split\n",
        "\n",
        "import unicodedata\n",
        "import re\n",
        "import numpy as np\n",
        "import os\n",
        "import io\n",
        "import time"
      ],
      "execution_count": 2,
      "outputs": []
    },
    {
      "cell_type": "markdown",
      "metadata": {
        "id": "jsDKDZdyZyzm"
      },
      "source": [
        "Download Dataset"
      ]
    },
    {
      "cell_type": "code",
      "metadata": {
        "id": "y__kYfoqdFr6",
        "colab": {
          "base_uri": "https://localhost:8080/"
        },
        "outputId": "80a8e34a-a19b-49e7-f6d4-bc3249cfe08d"
      },
      "source": [
        "path_to_zip = tf.keras.utils.get_file(\n",
        "    'spa-eng.zip', origin='http://storage.googleapis.com/download.tensorflow.org/data/spa-eng.zip',\n",
        "    extract=True)\n",
        "\n",
        "path_to_file = os.path.dirname(path_to_zip)+\"/spa-eng/spa.txt\""
      ],
      "execution_count": 3,
      "outputs": [
        {
          "output_type": "stream",
          "text": [
            "Downloading data from http://storage.googleapis.com/download.tensorflow.org/data/spa-eng.zip\n",
            "2646016/2638744 [==============================] - 0s 0us/step\n"
          ],
          "name": "stdout"
        }
      ]
    },
    {
      "cell_type": "markdown",
      "metadata": {
        "id": "rfg9_eY1cqGy"
      },
      "source": [
        "Preprocessing"
      ]
    },
    {
      "cell_type": "code",
      "metadata": {
        "id": "0xuoJ34ZZrS-"
      },
      "source": [
        "# Convert unicode to ascii\n",
        "def unicode_to_ascii(s):\n",
        "  return ''.join(c for c in unicodedata.normalize('NFD', s)\n",
        "      if unicodedata.category(c) != 'Mn')"
      ],
      "execution_count": 4,
      "outputs": []
    },
    {
      "cell_type": "code",
      "metadata": {
        "id": "gVIiVssda4Zc"
      },
      "source": [
        "def preprocess_sentence(w):\n",
        "  w = unicode_to_ascii(w.lower().strip())\n",
        "\n",
        "  # Creating a space between a word and the punctuation following it\n",
        "  w = re.sub(r\"([?.!,¿])\", r\" \\1 \", w)\n",
        "  w = re.sub(r'[\" \"]+', \" \", w)\n",
        "\n",
        "  # Replacing everything with space except (a-z, A-Z, \".\", \"?\", \"!\", \",\")\n",
        "  w = re.sub(r\"[^a-zA-Z?.!,¿]+\", \" \", w)\n",
        "\n",
        "  w = w.strip()\n",
        "\n",
        "  # Add start and end token to sentence\n",
        "  w = '<start> ' + w + ' <end>'\n",
        "  return w"
      ],
      "execution_count": 5,
      "outputs": []
    },
    {
      "cell_type": "code",
      "metadata": {
        "id": "3YAYoUCSa5iJ",
        "colab": {
          "base_uri": "https://localhost:8080/"
        },
        "outputId": "2760018b-54f5-4867-836b-579d721a7128"
      },
      "source": [
        "# Example\n",
        "sentence = \"How is the weather today?\"\n",
        "print(preprocess_sentence(sentence))"
      ],
      "execution_count": 6,
      "outputs": [
        {
          "output_type": "stream",
          "text": [
            "<start> how is the weather today ? <end>\n"
          ],
          "name": "stdout"
        }
      ]
    },
    {
      "cell_type": "markdown",
      "metadata": {
        "id": "hTPeVjhndVNu"
      },
      "source": [
        "Proprocess and create the datset in the format :[Engilsh, Spanish]"
      ]
    },
    {
      "cell_type": "code",
      "metadata": {
        "id": "BJNR0mIbdDMs"
      },
      "source": [
        "def create_dataset(path, num_examples):\n",
        "  lines = io.open(path, encoding='UTF-8').read().strip().split('\\n')\n",
        "  word_pairs = [[preprocess_sentence(w) for w in l.split('\\t')]  for l in lines[:num_examples]]\n",
        "  return zip(*word_pairs)"
      ],
      "execution_count": 7,
      "outputs": []
    },
    {
      "cell_type": "code",
      "metadata": {
        "id": "WxLBJDB9eJbh",
        "colab": {
          "base_uri": "https://localhost:8080/"
        },
        "outputId": "de5ee85f-a94e-463c-b786-95950e35e75f"
      },
      "source": [
        "en, sp = create_dataset(path_to_file, None)\n",
        "print(en[101])\n",
        "print(sp[101])"
      ],
      "execution_count": 8,
      "outputs": [
        {
          "output_type": "stream",
          "text": [
            "<start> go away ! <end>\n",
            "<start> largo ! <end>\n"
          ],
          "name": "stdout"
        }
      ]
    },
    {
      "cell_type": "code",
      "metadata": {
        "id": "Puuio_sMeZzO"
      },
      "source": [
        "def tokenize(lang):\n",
        "\n",
        "  # Convert text corpus into vector, converting the words into integers. Each integer is the index of the word in the vocabulary dictionary.\n",
        "  lang_tokenizer = tf.keras.preprocessing.text.Tokenizer(filters='')\n",
        "\n",
        "  # Updates the internal vocabulary dictionary with the given text.\n",
        "  lang_tokenizer.fit_on_texts(lang)\n",
        "\n",
        "  # Transforms text into sequence of integers\n",
        "  # Returns python list/array of sequences\n",
        "  tensor = lang_tokenizer.texts_to_sequences(lang)\n",
        "\n",
        "  # Returns numpy array of sequences with padding upto the maximum length\n",
        "  tensor = tf.keras.preprocessing.sequence.pad_sequences(tensor,\n",
        "                                                         padding='post')\n",
        "\n",
        "  return tensor, lang_tokenizer"
      ],
      "execution_count": 9,
      "outputs": []
    },
    {
      "cell_type": "markdown",
      "metadata": {
        "id": "r4cMv2yi9edL"
      },
      "source": [
        "https://medium.com/analytics-vidhya/tutorial-on-bucket-by-sequence-length-api-for-efficiently-batching-nlp-data-while-training-20d8ef5219d7\n",
        "\n"
      ]
    },
    {
      "cell_type": "code",
      "metadata": {
        "id": "KJvksbDofl7d"
      },
      "source": [
        "def load_dataset(path, num_examples=None):\n",
        "  inp_lang, targ_lang = create_dataset(path, num_examples)\n",
        "\n",
        "  input_tensor, inp_lang_tokenizer = tokenize(inp_lang)\n",
        "  target_tensor, targ_lang_tokenizer = tokenize(targ_lang)\n",
        "\n",
        "  return input_tensor, target_tensor, inp_lang_tokenizer, targ_lang_tokenizer"
      ],
      "execution_count": 10,
      "outputs": []
    },
    {
      "cell_type": "markdown",
      "metadata": {
        "id": "2ean4j0-LDA_"
      },
      "source": [
        "Limit the size of Dataset for faster experimenting"
      ]
    },
    {
      "cell_type": "code",
      "metadata": {
        "id": "ERiiqycOfohy"
      },
      "source": [
        "size = 30000\n",
        "# input_tensor, target_tensor, inp_lang, targ_lang = load_dataset(path_to_file, size)\n",
        "input_tensor, target_tensor, inp_lang, targ_lang = load_dataset(path_to_file)\n",
        "\n",
        "# Calculate max_length of the target tensors\n",
        "max_length_targ, max_length_inp = target_tensor.shape[1], input_tensor.shape[1]"
      ],
      "execution_count": 14,
      "outputs": []
    },
    {
      "cell_type": "code",
      "metadata": {
        "id": "2K2j6ybA6wfA",
        "colab": {
          "base_uri": "https://localhost:8080/"
        },
        "outputId": "ef242912-c9dc-4a90-8f25-1ec3d432d867"
      },
      "source": [
        "# Creating training and validation sets using an 80-20 split\n",
        "input_tensor_train, input_tensor_val, target_tensor_train, target_tensor_val = train_test_split(input_tensor, target_tensor, test_size=0.2)\n",
        "\n",
        "# Show length\n",
        "print(len(input_tensor_train), len(target_tensor_train), len(input_tensor_val), len(target_tensor_val))"
      ],
      "execution_count": 15,
      "outputs": [
        {
          "output_type": "stream",
          "text": [
            "95171 95171 23793 23793\n"
          ],
          "name": "stdout"
        }
      ]
    },
    {
      "cell_type": "markdown",
      "metadata": {
        "id": "Eb1RlmgEsTaF"
      },
      "source": [
        "Create Dataset"
      ]
    },
    {
      "cell_type": "code",
      "metadata": {
        "id": "2Op-eFogXN1s"
      },
      "source": [
        "BUFFER_SIZE = len(input_tensor_train)\n",
        "vocab_inp_size = len(inp_lang.word_index)+1\n",
        "vocab_tar_size = len(targ_lang.word_index)+1\n",
        "units = 1024\n",
        "d_model = 256\n",
        "BATCH_SIZE = 128\n",
        "steps_per_epoch = len(input_tensor_train)//BATCH_SIZE\n",
        "\n",
        "dataset = tf.data.Dataset.from_tensor_slices((input_tensor_train, target_tensor_train)).shuffle(BUFFER_SIZE)\n",
        "dataset = dataset.batch(BATCH_SIZE, drop_remainder=True)"
      ],
      "execution_count": 16,
      "outputs": []
    },
    {
      "cell_type": "code",
      "metadata": {
        "id": "nXw5LL9jJ72z",
        "colab": {
          "base_uri": "https://localhost:8080/"
        },
        "outputId": "b51011a0-0dcb-44e0-924f-6658d5cf83fb"
      },
      "source": [
        "example_input_batch, example_target_batch = next(iter(dataset))\n",
        "example_input_batch.shape, example_target_batch.shape"
      ],
      "execution_count": 17,
      "outputs": [
        {
          "output_type": "execute_result",
          "data": {
            "text/plain": [
              "(TensorShape([128, 51]), TensorShape([128, 53]))"
            ]
          },
          "metadata": {
            "tags": []
          },
          "execution_count": 17
        }
      ]
    },
    {
      "cell_type": "markdown",
      "metadata": {
        "id": "cYOu7GCeVnVh"
      },
      "source": [
        "Model: Encoder"
      ]
    },
    {
      "cell_type": "code",
      "metadata": {
        "id": "dwhEXJkirGYZ"
      },
      "source": [
        "class Encoder(tf.keras.Model):\n",
        "  def __init__(self, vocab_size, d_model, n_units, batch_size):\n",
        "    super(Encoder, self).__init__()\n",
        "    self.batch_size = batch_size\n",
        "    self.n_units = n_units\n",
        "    self.embedding = tf.keras.layers.Embedding(vocab_size, d_model)\n",
        "    self.gru = tf.keras.layers.GRU(self.n_units,\n",
        "                                   return_sequences=True,\n",
        "                                   return_state=True,\n",
        "                                   recurrent_initializer='glorot_uniform')\n",
        "\n",
        "  def call(self, x, hidden):\n",
        "    x = self.embedding(x)\n",
        "    output, state = self.gru(x, initial_state = hidden)\n",
        "    return output, state\n",
        "\n",
        "  def initialize_hidden_state(self):\n",
        "    return tf.zeros((self.batch_size, self.n_units))"
      ],
      "execution_count": 22,
      "outputs": []
    },
    {
      "cell_type": "code",
      "metadata": {
        "id": "q5tqABnoQTkj",
        "colab": {
          "base_uri": "https://localhost:8080/"
        },
        "outputId": "ad88be46-d49f-4cfc-f31c-8e5921bba07e"
      },
      "source": [
        "encoder = Encoder(vocab_inp_size, d_model, units, BATCH_SIZE)\n",
        "\n",
        "# sample input\n",
        "sample_hidden = encoder.initialize_hidden_state()\n",
        "sample_output, sample_hidden = encoder(example_input_batch, sample_hidden)\n",
        "print ('Encoder output shape: (batch size, sequence length, units) {}'.format(sample_output.shape))\n",
        "print ('Encoder Hidden state shape: (batch size, units) {}'.format(sample_hidden.shape))"
      ],
      "execution_count": 23,
      "outputs": [
        {
          "output_type": "stream",
          "text": [
            "Encoder output shape: (batch size, sequence length, units) (128, 51, 1024)\n",
            "Encoder Hidden state shape: (batch size, units) (128, 1024)\n"
          ],
          "name": "stdout"
        }
      ]
    },
    {
      "cell_type": "markdown",
      "metadata": {
        "id": "0LBMQaRIVsjz"
      },
      "source": [
        "Model: Attention Layer|"
      ]
    },
    {
      "cell_type": "code",
      "metadata": {
        "id": "xiE4Pw7BLDPI"
      },
      "source": [
        "class BahdanauAttention(tf.keras.layers.Layer):\n",
        "  def __init__(self, units):\n",
        "    super(BahdanauAttention, self).__init__()\n",
        "    self.W1 = tf.keras.layers.Dense(units)\n",
        "    self.W2 = tf.keras.layers.Dense(units)\n",
        "    self.V = tf.keras.layers.Dense(1)\n",
        "\n",
        "  def call(self, query, values):\n",
        "    # query hidden state shape == (batch_size, hidden size)\n",
        "    # query_with_time_axis shape == (batch_size, 1, hidden size)\n",
        "    # values shape == (batch_size, max_len, hidden size)\n",
        "    # we are doing this to broadcast addition along the time axis to calculate the score\n",
        "    query_with_time_axis = tf.expand_dims(query, 1)\n",
        "\n",
        "    # score shape == (batch_size, max_length, 1)\n",
        "    # we get 1 at the last axis because we are applying score to self.V\n",
        "    # the shape of the tensor before applying self.V is (batch_size, max_length, units)\n",
        "    score = self.V(tf.nn.tanh(\n",
        "        self.W1(query_with_time_axis) + self.W2(values)))\n",
        "\n",
        "    # attention_weights shape == (batch_size, max_length, 1)\n",
        "    attention_weights = tf.nn.softmax(score, axis=1)\n",
        "\n",
        "    # context_vector shape after sum == (batch_size, hidden_size)\n",
        "    context_vector = attention_weights * values\n",
        "    context_vector = tf.reduce_sum(context_vector, axis=1)\n",
        "\n",
        "    return context_vector, attention_weights"
      ],
      "execution_count": 24,
      "outputs": []
    },
    {
      "cell_type": "code",
      "metadata": {
        "id": "tlbj4O--MY_B",
        "colab": {
          "base_uri": "https://localhost:8080/"
        },
        "outputId": "c6b90abd-3354-4731-c8b1-75456764d350"
      },
      "source": [
        "attention_layer = BahdanauAttention(10)\n",
        "attention_result, attention_weights = attention_layer(sample_hidden, sample_output)\n",
        "\n",
        "print(\"Attention result shape: (batch size, units) {}\".format(attention_result.shape))\n",
        "print(\"Attention weights shape: (batch_size, sequence_length, 1) {}\".format(attention_weights.shape))"
      ],
      "execution_count": 25,
      "outputs": [
        {
          "output_type": "stream",
          "text": [
            "Attention result shape: (batch size, units) (128, 1024)\n",
            "Attention weights shape: (batch_size, sequence_length, 1) (128, 51, 1)\n"
          ],
          "name": "stdout"
        }
      ]
    },
    {
      "cell_type": "markdown",
      "metadata": {
        "id": "ElTR6KlWVw71"
      },
      "source": [
        "Model: Decoder"
      ]
    },
    {
      "cell_type": "code",
      "metadata": {
        "id": "smtkYS59JY6o"
      },
      "source": [
        "class Decoder(tf.keras.Model):\n",
        "  def __init__(self, vocab_size, d_model, dec_units, batch_size):\n",
        "    super(Decoder, self).__init__()\n",
        "    self.batch_size = batch_size\n",
        "    self.dec_units = dec_units\n",
        "    self.embedding = tf.keras.layers.Embedding(vocab_size, d_model)\n",
        "    self.gru = tf.keras.layers.GRU(self.dec_units,\n",
        "                                   return_sequences=True,\n",
        "                                   return_state=True,\n",
        "                                   recurrent_initializer='glorot_uniform')\n",
        "    self.fc = tf.keras.layers.Dense(vocab_size)\n",
        "\n",
        "    # used for attention\n",
        "    self.attention = BahdanauAttention(self.dec_units)\n",
        "\n",
        "  def call(self, x, hidden, enc_output):\n",
        "    # enc_output shape == (batch_size, max_length, hidden_size)\n",
        "    context_vector, attention_weights = self.attention(hidden, enc_output)\n",
        "\n",
        "    # x shape after passing through embedding == (batch_size, 1, d_model)\n",
        "    x = self.embedding(x)\n",
        "\n",
        "    # x shape after concatenation == (batch_size, 1, d_model + hidden_size)\n",
        "    x = tf.concat([tf.expand_dims(context_vector, 1), x], axis=-1)\n",
        "\n",
        "    # passing the concatenated vector to the GRU\n",
        "    output, state = self.gru(x)\n",
        "\n",
        "    # output shape == (batch_size * 1, hidden_size)\n",
        "    output = tf.reshape(output, (-1, output.shape[2]))\n",
        "\n",
        "    # output shape == (batch_size, vocab)\n",
        "    x = self.fc(output)\n",
        "\n",
        "    return x, state, attention_weights"
      ],
      "execution_count": 26,
      "outputs": []
    },
    {
      "cell_type": "code",
      "metadata": {
        "id": "Dc5WCxijK3Eq",
        "colab": {
          "base_uri": "https://localhost:8080/"
        },
        "outputId": "586dc859-f13a-40b6-a1da-d49df42be9d6"
      },
      "source": [
        "decoder = Decoder(vocab_tar_size, d_model, units, BATCH_SIZE)\n",
        "\n",
        "sample_decoder_output, _, _ = decoder(tf.random.uniform((BATCH_SIZE, 1)),\n",
        "                                      sample_hidden, sample_output)\n",
        "\n",
        "print ('Decoder output shape: (batch_size, vocab size) {}'.format(sample_decoder_output.shape))"
      ],
      "execution_count": 27,
      "outputs": [
        {
          "output_type": "stream",
          "text": [
            "Decoder output shape: (batch_size, vocab size) (128, 24794)\n"
          ],
          "name": "stdout"
        }
      ]
    },
    {
      "cell_type": "markdown",
      "metadata": {
        "id": "FsmVxgkRMv1Q"
      },
      "source": [
        "Oprtimizer and Loss function"
      ]
    },
    {
      "cell_type": "code",
      "metadata": {
        "id": "OjoJXjUyMzIe"
      },
      "source": [
        "optimizer = tf.keras.optimizers.Adam()\n",
        "loss_object = tf.keras.losses.SparseCategoricalCrossentropy(\n",
        "    from_logits=True, reduction='none')\n",
        "\n",
        "def loss_function(real, pred):\n",
        "  mask = tf.math.logical_not(tf.math.equal(real, 0))\n",
        "  loss_ = loss_object(real, pred)\n",
        "\n",
        "  mask = tf.cast(mask, dtype=loss_.dtype)\n",
        "  loss_ *= mask\n",
        "\n",
        "  return tf.reduce_mean(loss_)"
      ],
      "execution_count": 28,
      "outputs": []
    },
    {
      "cell_type": "code",
      "metadata": {
        "id": "nVwbc1y0MziM"
      },
      "source": [
        "optimizer = tf.keras.optimizers.Adam()\n",
        "loss_object = tf.keras.losses.SparseCategoricalCrossentropy(\n",
        "    from_logits=True, reduction='none')\n",
        "\n",
        "def loss_function(real, pred):\n",
        "  mask = tf.math.logical_not(tf.math.equal(real, 0))\n",
        "  loss_ = loss_object(real, pred)\n",
        "\n",
        "  mask = tf.cast(mask, dtype=loss_.dtype)\n",
        "  loss_ *= mask\n",
        "\n",
        "  return tf.reduce_mean(loss_)"
      ],
      "execution_count": 29,
      "outputs": []
    },
    {
      "cell_type": "markdown",
      "metadata": {
        "id": "PAJ78_-eP4J2"
      },
      "source": [
        "Creating checkpoint"
      ]
    },
    {
      "cell_type": "code",
      "metadata": {
        "id": "UjP0vxBhPu5Q"
      },
      "source": [
        "checkpoint_dir = './training_checkpoints'\n",
        "checkpoint_prefix = os.path.join(checkpoint_dir, \"ckpt\")\n",
        "checkpoint = tf.train.Checkpoint(optimizer=optimizer,\n",
        "                                 encoder=encoder,\n",
        "                                 decoder=decoder)"
      ],
      "execution_count": 30,
      "outputs": []
    },
    {
      "cell_type": "markdown",
      "metadata": {
        "id": "VNPdrrI42IOk"
      },
      "source": [
        "Training"
      ]
    },
    {
      "cell_type": "code",
      "metadata": {
        "id": "sLpvELQ32HhL"
      },
      "source": [
        "@tf.function\n",
        "def train_step(inp, targ, enc_hidden):\n",
        "  loss = 0\n",
        "\n",
        "  with tf.GradientTape() as tape:\n",
        "    enc_output, enc_hidden = encoder(inp, enc_hidden)\n",
        "\n",
        "    dec_hidden = enc_hidden\n",
        "\n",
        "    dec_input = tf.expand_dims([targ_lang.word_index['<start>']] * BATCH_SIZE, 1)\n",
        "\n",
        "    # Teacher forcing - feeding the target as the next input\n",
        "    for t in range(1, targ.shape[1]):\n",
        "      # passing enc_output to the decoder\n",
        "      predictions, dec_hidden, _ = decoder(dec_input, dec_hidden, enc_output)\n",
        "\n",
        "      loss += loss_function(targ[:, t], predictions)\n",
        "\n",
        "      # using teacher forcing\n",
        "      dec_input = tf.expand_dims(targ[:, t], 1)\n",
        "\n",
        "  batch_loss = (loss / int(targ.shape[1]))\n",
        "\n",
        "  variables = encoder.trainable_variables + decoder.trainable_variables\n",
        "\n",
        "  gradients = tape.gradient(loss, variables)\n",
        "\n",
        "  optimizer.apply_gradients(zip(gradients, variables))\n",
        "\n",
        "  return batch_loss"
      ],
      "execution_count": 31,
      "outputs": []
    },
    {
      "cell_type": "code",
      "metadata": {
        "id": "dpjGiLlUP86W",
        "colab": {
          "base_uri": "https://localhost:8080/"
        },
        "outputId": "cca669a1-503d-4d18-c034-cf046e294ee7"
      },
      "source": [
        "EPOCHS = 10\n",
        "\n",
        "for epoch in range(EPOCHS):\n",
        "  start = time.time()\n",
        "\n",
        "  enc_hidden = encoder.initialize_hidden_state()\n",
        "  total_loss = 0\n",
        "\n",
        "  for (batch, (inp, targ)) in enumerate(dataset.take(steps_per_epoch)):\n",
        "    batch_loss = train_step(inp, targ, enc_hidden)\n",
        "    total_loss += batch_loss\n",
        "\n",
        "    if batch % 100 == 0:\n",
        "      print('Epoch {} Batch {} Loss {:.4f}'.format(epoch + 1,\n",
        "                                                   batch,\n",
        "                                                   batch_loss.numpy()))\n",
        "  # saving (checkpoint) the model every 2 epochs\n",
        "  if (epoch + 1) % 2 == 0:\n",
        "    checkpoint.save(file_prefix = checkpoint_prefix)\n",
        "\n",
        "  print('Epoch {} Loss {:.4f}'.format(epoch + 1,\n",
        "                                      total_loss / steps_per_epoch))\n",
        "  print('Time taken for 1 epoch {} sec\\n'.format(time.time() - start))"
      ],
      "execution_count": 32,
      "outputs": [
        {
          "output_type": "stream",
          "text": [
            "Epoch 1 Batch 0 Loss 1.5899\n",
            "Epoch 1 Batch 100 Loss 0.9185\n",
            "Epoch 1 Batch 200 Loss 0.7715\n",
            "Epoch 1 Batch 300 Loss 0.7749\n",
            "Epoch 1 Batch 400 Loss 0.7390\n",
            "Epoch 1 Batch 500 Loss 0.6689\n",
            "Epoch 1 Batch 600 Loss 0.6622\n",
            "Epoch 1 Batch 700 Loss 0.6311\n",
            "Epoch 1 Loss 0.7604\n",
            "Time taken for 1 epoch 610.1199007034302 sec\n",
            "\n",
            "Epoch 2 Batch 0 Loss 0.6575\n",
            "Epoch 2 Batch 100 Loss 0.6184\n",
            "Epoch 2 Batch 200 Loss 0.5951\n",
            "Epoch 2 Batch 300 Loss 0.5666\n",
            "Epoch 2 Batch 400 Loss 0.5668\n",
            "Epoch 2 Batch 500 Loss 0.5336\n",
            "Epoch 2 Batch 600 Loss 0.4917\n",
            "Epoch 2 Batch 700 Loss 0.4594\n",
            "Epoch 2 Loss 0.5416\n",
            "Time taken for 1 epoch 561.7403774261475 sec\n",
            "\n",
            "Epoch 3 Batch 0 Loss 0.4734\n",
            "Epoch 3 Batch 100 Loss 0.4056\n",
            "Epoch 3 Batch 200 Loss 0.4032\n",
            "Epoch 3 Batch 300 Loss 0.3634\n",
            "Epoch 3 Batch 400 Loss 0.3812\n",
            "Epoch 3 Batch 500 Loss 0.3985\n",
            "Epoch 3 Batch 600 Loss 0.3845\n",
            "Epoch 3 Batch 700 Loss 0.3019\n",
            "Epoch 3 Loss 0.3801\n",
            "Time taken for 1 epoch 560.0111970901489 sec\n",
            "\n",
            "Epoch 4 Batch 0 Loss 0.2838\n",
            "Epoch 4 Batch 100 Loss 0.2601\n",
            "Epoch 4 Batch 200 Loss 0.2606\n",
            "Epoch 4 Batch 300 Loss 0.2925\n",
            "Epoch 4 Batch 400 Loss 0.2802\n",
            "Epoch 4 Batch 500 Loss 0.2401\n",
            "Epoch 4 Batch 600 Loss 0.2268\n",
            "Epoch 4 Batch 700 Loss 0.2520\n",
            "Epoch 4 Loss 0.2609\n",
            "Time taken for 1 epoch 561.520834684372 sec\n",
            "\n",
            "Epoch 5 Batch 0 Loss 0.1972\n",
            "Epoch 5 Batch 100 Loss 0.2231\n",
            "Epoch 5 Batch 200 Loss 0.1844\n",
            "Epoch 5 Batch 300 Loss 0.1918\n",
            "Epoch 5 Batch 400 Loss 0.2314\n",
            "Epoch 5 Batch 500 Loss 0.2253\n",
            "Epoch 5 Batch 600 Loss 0.1839\n",
            "Epoch 5 Batch 700 Loss 0.1852\n",
            "Epoch 5 Loss 0.1921\n",
            "Time taken for 1 epoch 560.0742619037628 sec\n",
            "\n",
            "Epoch 6 Batch 0 Loss 0.1481\n",
            "Epoch 6 Batch 100 Loss 0.1310\n",
            "Epoch 6 Batch 200 Loss 0.1476\n",
            "Epoch 6 Batch 300 Loss 0.1383\n",
            "Epoch 6 Batch 400 Loss 0.1691\n",
            "Epoch 6 Batch 500 Loss 0.1769\n",
            "Epoch 6 Batch 600 Loss 0.1506\n",
            "Epoch 6 Batch 700 Loss 0.1559\n",
            "Epoch 6 Loss 0.1504\n",
            "Time taken for 1 epoch 561.7710666656494 sec\n",
            "\n",
            "Epoch 7 Batch 0 Loss 0.1407\n",
            "Epoch 7 Batch 100 Loss 0.1149\n",
            "Epoch 7 Batch 200 Loss 0.1268\n",
            "Epoch 7 Batch 300 Loss 0.1122\n",
            "Epoch 7 Batch 400 Loss 0.1316\n",
            "Epoch 7 Batch 500 Loss 0.1468\n",
            "Epoch 7 Batch 600 Loss 0.1250\n",
            "Epoch 7 Batch 700 Loss 0.1319\n",
            "Epoch 7 Loss 0.1228\n",
            "Time taken for 1 epoch 560.1273331642151 sec\n",
            "\n",
            "Epoch 8 Batch 0 Loss 0.0822\n",
            "Epoch 8 Batch 100 Loss 0.1047\n",
            "Epoch 8 Batch 200 Loss 0.0847\n",
            "Epoch 8 Batch 300 Loss 0.0805\n",
            "Epoch 8 Batch 400 Loss 0.1078\n",
            "Epoch 8 Batch 500 Loss 0.1046\n",
            "Epoch 8 Batch 600 Loss 0.0857\n",
            "Epoch 8 Batch 700 Loss 0.1015\n",
            "Epoch 8 Loss 0.0987\n",
            "Time taken for 1 epoch 561.4501485824585 sec\n",
            "\n",
            "Epoch 9 Batch 0 Loss 0.0755\n",
            "Epoch 9 Batch 100 Loss 0.0716\n",
            "Epoch 9 Batch 200 Loss 0.0784\n",
            "Epoch 9 Batch 300 Loss 0.0820\n",
            "Epoch 9 Batch 400 Loss 0.0714\n",
            "Epoch 9 Batch 500 Loss 0.0965\n",
            "Epoch 9 Batch 600 Loss 0.0823\n",
            "Epoch 9 Batch 700 Loss 0.0814\n",
            "Epoch 9 Loss 0.0852\n",
            "Time taken for 1 epoch 559.7291450500488 sec\n",
            "\n",
            "Epoch 10 Batch 0 Loss 0.0541\n",
            "Epoch 10 Batch 100 Loss 0.0686\n",
            "Epoch 10 Batch 200 Loss 0.0649\n",
            "Epoch 10 Batch 300 Loss 0.0594\n",
            "Epoch 10 Batch 400 Loss 0.0711\n",
            "Epoch 10 Batch 500 Loss 0.0682\n",
            "Epoch 10 Batch 600 Loss 0.0687\n",
            "Epoch 10 Batch 700 Loss 0.0695\n",
            "Epoch 10 Loss 0.0726\n",
            "Time taken for 1 epoch 561.1947598457336 sec\n",
            "\n"
          ],
          "name": "stdout"
        }
      ]
    },
    {
      "cell_type": "code",
      "metadata": {
        "id": "aStxBTGI3hzG"
      },
      "source": [
        "np.save('inp_lang_word_index.npy', inp_lang.word_index)\n",
        "np.save('inp_lang_index_word.npy', inp_lang.index_word)\n",
        "np.save('targ_lang_word_index.npy', targ_lang.word_index)\n",
        "np.save('targ_lang_index_word.npy', targ_lang.index_word)"
      ],
      "execution_count": 33,
      "outputs": []
    },
    {
      "cell_type": "markdown",
      "metadata": {
        "id": "pC-lpAhRWNts"
      },
      "source": [
        "Loading checkpoint and vocabulary dictionary"
      ]
    },
    {
      "cell_type": "code",
      "metadata": {
        "colab": {
          "base_uri": "https://localhost:8080/"
        },
        "id": "Mrn2QzEwij_F",
        "outputId": "cea26d6a-394c-4f21-cdf2-507e8c1bf1d4"
      },
      "source": [
        "# checkpoint.restore('./training_checkpoints/ckpt-5')"
      ],
      "execution_count": 58,
      "outputs": [
        {
          "output_type": "execute_result",
          "data": {
            "text/plain": [
              "<tensorflow.python.training.tracking.util.CheckpointLoadStatus at 0x7f700fc5cd30>"
            ]
          },
          "metadata": {
            "tags": []
          },
          "execution_count": 58
        }
      ]
    },
    {
      "cell_type": "code",
      "metadata": {
        "id": "awSOcRJyWIO7"
      },
      "source": [
        "inp_lang_word_index = np.load('./inp_lang_word_index.npy', allow_pickle=True).all()\n",
        "inp_lang_index_word = np.load('./inp_lang_index_word.npy', allow_pickle=True).all()\n",
        "targ_lang_word_index = np.load('./targ_lang_word_index.npy', allow_pickle=True).all()\n",
        "targ_lang_index_word = np.load('./targ_lang_index_word.npy', allow_pickle=True).all()"
      ],
      "execution_count": 59,
      "outputs": []
    },
    {
      "cell_type": "code",
      "metadata": {
        "id": "aBHN7GCLotpg"
      },
      "source": [
        "def evaluate(sentence):\n",
        "  attention_plot = np.zeros((max_length_targ, max_length_inp))\n",
        "\n",
        "  sentence = preprocess_sentence(sentence)\n",
        "\n",
        "  inputs = [inp_lang_word_index[i] for i in sentence.split(' ')]\n",
        "  inputs = tf.keras.preprocessing.sequence.pad_sequences([inputs],\n",
        "                                                         maxlen=max_length_inp,\n",
        "                                                         padding='post')\n",
        "  inputs = tf.convert_to_tensor(inputs)\n",
        "\n",
        "  result = ''\n",
        "\n",
        "  hidden = [tf.zeros((1, units))]\n",
        "  enc_out, enc_hidden = encoder(inputs, hidden)\n",
        "\n",
        "  dec_hidden = enc_hidden\n",
        "  dec_input = tf.expand_dims([targ_lang_word_index['<start>']], 0)\n",
        "\n",
        "  for t in range(max_length_targ):\n",
        "    predictions, dec_hidden, attention_weights = decoder(dec_input,\n",
        "                                                         dec_hidden,\n",
        "                                                         enc_out)\n",
        "\n",
        "    # storing the attention weights to plot later on\n",
        "    attention_weights = tf.reshape(attention_weights, (-1, ))\n",
        "    attention_plot[t] = attention_weights.numpy()\n",
        "\n",
        "    predicted_id = tf.argmax(predictions[0]).numpy()\n",
        "\n",
        "    result += targ_lang_index_word[predicted_id] + ' '\n",
        "\n",
        "    if targ_lang_index_word[predicted_id] == '<end>':\n",
        "      return result, sentence, attention_plot\n",
        "\n",
        "    # the predicted ID is fed back into the model\n",
        "    dec_input = tf.expand_dims([predicted_id], 0)\n",
        "\n",
        "  return result, sentence, attention_plot\n",
        "\n",
        "# function for plotting the attention weights\n",
        "def plot_attention(attention, sentence, predicted_sentence):\n",
        "  fig = plt.figure(figsize=(10,10))\n",
        "  ax = fig.add_subplot(1, 1, 1)\n",
        "  ax.matshow(attention, cmap='viridis')\n",
        "\n",
        "  fontdict = {'fontsize': 14}\n",
        "\n",
        "  ax.set_xticklabels([''] + sentence, fontdict=fontdict, rotation=90)\n",
        "  ax.set_yticklabels([''] + predicted_sentence, fontdict=fontdict)\n",
        "\n",
        "  ax.xaxis.set_major_locator(ticker.MultipleLocator(1))\n",
        "  ax.yaxis.set_major_locator(ticker.MultipleLocator(1))\n",
        "\n",
        "  plt.show()\n",
        "\n",
        "def translate(sentence):\n",
        "  result, sentence, attention_plot = evaluate(sentence)\n",
        "\n",
        "  print('Input: %s' % (sentence))\n",
        "  print('Predicted translation: {}'.format(result))\n",
        "\n",
        "  attention_plot = attention_plot[:len(result.split(' ')), :len(sentence.split(' '))]\n",
        "  plot_attention(attention_plot, sentence.split(' '), result.split(' '))"
      ],
      "execution_count": 60,
      "outputs": []
    },
    {
      "cell_type": "code",
      "metadata": {
        "id": "a5x1xTq2qfDT",
        "colab": {
          "base_uri": "https://localhost:8080/",
          "height": 621
        },
        "outputId": "68d889a5-74b1-4ae8-d676-5b2aa35d214a"
      },
      "source": [
        "translate(u'I am going to the office')"
      ],
      "execution_count": 61,
      "outputs": [
        {
          "output_type": "stream",
          "text": [
            "Input: <start> i am going to the office <end>\n",
            "Predicted translation: voy a la oficina . <end> \n"
          ],
          "name": "stdout"
        },
        {
          "output_type": "display_data",
          "data": {
            "image/png": "[encoded data removed]",
            "text/plain": [
              "<Figure size 720x720 with 1 Axes>"
            ]
          },
          "metadata": {
            "tags": [],
            "needs_background": "light"
          }
        }
      ]
    },
    {
      "cell_type": "code",
      "metadata": {
        "id": "eGYGIcMGhUDH"
      },
      "source": [
        ""
      ],
      "execution_count": null,
      "outputs": []
    }
  ]
}